{
 "cells": [
  {
   "cell_type": "code",
   "execution_count": 1,
   "id": "27e0591b-d2f8-4ea6-ba6b-de321d3957c2",
   "metadata": {},
   "outputs": [
    {
     "name": "stdout",
     "output_type": "stream",
     "text": [
      "UNAD\n",
      "Jhon_James_Avila_Rubiano\n",
      "Tarea 3 - Algoritmos de Aprendizaje Supervisado\n",
      "Regresion logistica\n"
     ]
    }
   ],
   "source": [
    "print (\"UNAD\")\n",
    "print (\"Jhon_James_Avila_Rubiano\") \n",
    "print (\"Tarea 3 - Algoritmos de Aprendizaje Supervisado\")\n",
    "print (\"Regresion logistica\")\n"
   ]
  },
  {
   "cell_type": "code",
   "execution_count": 3,
   "id": "b37c5b9d-44dd-4d50-9e28-73d32b5ba7fa",
   "metadata": {},
   "outputs": [],
   "source": [
    "#cargando librerias\n",
    "import pandas as pd\n",
    "import numpy as  np\n",
    "import seaborn as sns\n",
    "import matplotlib.pyplot as plt\n",
    "import matplotlib.pyplot as plt\n",
    "from sklearn import metrics\n",
    "from sklearn.model_selection import train_test_split\n",
    "from sklearn.linear_model import LogisticRegression\n",
    "from sklearn.metrics import classification_report, confusion_matrix"
   ]
  },
  {
   "cell_type": "code",
   "execution_count": 5,
   "id": "5340b919-b4f9-451e-8728-729b76d9e039",
   "metadata": {},
   "outputs": [],
   "source": [
    "#lectura de datos en python y lo cargamos en la variable datos\n",
    "datos= pd.read_csv('C:/Users/jjhon/Downloads/heart_cleveland_upload.csv')"
   ]
  },
  {
   "cell_type": "code",
   "execution_count": 7,
   "id": "9e95d5bc-19db-4052-909a-7319bdfc49d6",
   "metadata": {},
   "outputs": [
    {
     "data": {
      "text/html": [
       "<div>\n",
       "<style scoped>\n",
       "    .dataframe tbody tr th:only-of-type {\n",
       "        vertical-align: middle;\n",
       "    }\n",
       "\n",
       "    .dataframe tbody tr th {\n",
       "        vertical-align: top;\n",
       "    }\n",
       "\n",
       "    .dataframe thead th {\n",
       "        text-align: right;\n",
       "    }\n",
       "</style>\n",
       "<table border=\"1\" class=\"dataframe\">\n",
       "  <thead>\n",
       "    <tr style=\"text-align: right;\">\n",
       "      <th></th>\n",
       "      <th>age</th>\n",
       "      <th>sex</th>\n",
       "      <th>cp</th>\n",
       "      <th>trestbps</th>\n",
       "      <th>chol</th>\n",
       "      <th>fbs</th>\n",
       "      <th>restecg</th>\n",
       "      <th>thalach</th>\n",
       "      <th>exang</th>\n",
       "      <th>oldpeak</th>\n",
       "      <th>slope</th>\n",
       "      <th>ca</th>\n",
       "      <th>thal</th>\n",
       "      <th>condition</th>\n",
       "    </tr>\n",
       "  </thead>\n",
       "  <tbody>\n",
       "    <tr>\n",
       "      <th>0</th>\n",
       "      <td>69</td>\n",
       "      <td>1</td>\n",
       "      <td>0</td>\n",
       "      <td>160</td>\n",
       "      <td>234</td>\n",
       "      <td>1</td>\n",
       "      <td>2</td>\n",
       "      <td>131</td>\n",
       "      <td>0</td>\n",
       "      <td>0.1</td>\n",
       "      <td>1</td>\n",
       "      <td>1</td>\n",
       "      <td>0</td>\n",
       "      <td>0</td>\n",
       "    </tr>\n",
       "    <tr>\n",
       "      <th>1</th>\n",
       "      <td>69</td>\n",
       "      <td>0</td>\n",
       "      <td>0</td>\n",
       "      <td>140</td>\n",
       "      <td>239</td>\n",
       "      <td>0</td>\n",
       "      <td>0</td>\n",
       "      <td>151</td>\n",
       "      <td>0</td>\n",
       "      <td>1.8</td>\n",
       "      <td>0</td>\n",
       "      <td>2</td>\n",
       "      <td>0</td>\n",
       "      <td>0</td>\n",
       "    </tr>\n",
       "    <tr>\n",
       "      <th>2</th>\n",
       "      <td>66</td>\n",
       "      <td>0</td>\n",
       "      <td>0</td>\n",
       "      <td>150</td>\n",
       "      <td>226</td>\n",
       "      <td>0</td>\n",
       "      <td>0</td>\n",
       "      <td>114</td>\n",
       "      <td>0</td>\n",
       "      <td>2.6</td>\n",
       "      <td>2</td>\n",
       "      <td>0</td>\n",
       "      <td>0</td>\n",
       "      <td>0</td>\n",
       "    </tr>\n",
       "    <tr>\n",
       "      <th>3</th>\n",
       "      <td>65</td>\n",
       "      <td>1</td>\n",
       "      <td>0</td>\n",
       "      <td>138</td>\n",
       "      <td>282</td>\n",
       "      <td>1</td>\n",
       "      <td>2</td>\n",
       "      <td>174</td>\n",
       "      <td>0</td>\n",
       "      <td>1.4</td>\n",
       "      <td>1</td>\n",
       "      <td>1</td>\n",
       "      <td>0</td>\n",
       "      <td>1</td>\n",
       "    </tr>\n",
       "    <tr>\n",
       "      <th>4</th>\n",
       "      <td>64</td>\n",
       "      <td>1</td>\n",
       "      <td>0</td>\n",
       "      <td>110</td>\n",
       "      <td>211</td>\n",
       "      <td>0</td>\n",
       "      <td>2</td>\n",
       "      <td>144</td>\n",
       "      <td>1</td>\n",
       "      <td>1.8</td>\n",
       "      <td>1</td>\n",
       "      <td>0</td>\n",
       "      <td>0</td>\n",
       "      <td>0</td>\n",
       "    </tr>\n",
       "    <tr>\n",
       "      <th>5</th>\n",
       "      <td>64</td>\n",
       "      <td>1</td>\n",
       "      <td>0</td>\n",
       "      <td>170</td>\n",
       "      <td>227</td>\n",
       "      <td>0</td>\n",
       "      <td>2</td>\n",
       "      <td>155</td>\n",
       "      <td>0</td>\n",
       "      <td>0.6</td>\n",
       "      <td>1</td>\n",
       "      <td>0</td>\n",
       "      <td>2</td>\n",
       "      <td>0</td>\n",
       "    </tr>\n",
       "    <tr>\n",
       "      <th>6</th>\n",
       "      <td>63</td>\n",
       "      <td>1</td>\n",
       "      <td>0</td>\n",
       "      <td>145</td>\n",
       "      <td>233</td>\n",
       "      <td>1</td>\n",
       "      <td>2</td>\n",
       "      <td>150</td>\n",
       "      <td>0</td>\n",
       "      <td>2.3</td>\n",
       "      <td>2</td>\n",
       "      <td>0</td>\n",
       "      <td>1</td>\n",
       "      <td>0</td>\n",
       "    </tr>\n",
       "    <tr>\n",
       "      <th>7</th>\n",
       "      <td>61</td>\n",
       "      <td>1</td>\n",
       "      <td>0</td>\n",
       "      <td>134</td>\n",
       "      <td>234</td>\n",
       "      <td>0</td>\n",
       "      <td>0</td>\n",
       "      <td>145</td>\n",
       "      <td>0</td>\n",
       "      <td>2.6</td>\n",
       "      <td>1</td>\n",
       "      <td>2</td>\n",
       "      <td>0</td>\n",
       "      <td>1</td>\n",
       "    </tr>\n",
       "    <tr>\n",
       "      <th>8</th>\n",
       "      <td>60</td>\n",
       "      <td>0</td>\n",
       "      <td>0</td>\n",
       "      <td>150</td>\n",
       "      <td>240</td>\n",
       "      <td>0</td>\n",
       "      <td>0</td>\n",
       "      <td>171</td>\n",
       "      <td>0</td>\n",
       "      <td>0.9</td>\n",
       "      <td>0</td>\n",
       "      <td>0</td>\n",
       "      <td>0</td>\n",
       "      <td>0</td>\n",
       "    </tr>\n",
       "    <tr>\n",
       "      <th>9</th>\n",
       "      <td>59</td>\n",
       "      <td>1</td>\n",
       "      <td>0</td>\n",
       "      <td>178</td>\n",
       "      <td>270</td>\n",
       "      <td>0</td>\n",
       "      <td>2</td>\n",
       "      <td>145</td>\n",
       "      <td>0</td>\n",
       "      <td>4.2</td>\n",
       "      <td>2</td>\n",
       "      <td>0</td>\n",
       "      <td>2</td>\n",
       "      <td>0</td>\n",
       "    </tr>\n",
       "    <tr>\n",
       "      <th>10</th>\n",
       "      <td>59</td>\n",
       "      <td>1</td>\n",
       "      <td>0</td>\n",
       "      <td>170</td>\n",
       "      <td>288</td>\n",
       "      <td>0</td>\n",
       "      <td>2</td>\n",
       "      <td>159</td>\n",
       "      <td>0</td>\n",
       "      <td>0.2</td>\n",
       "      <td>1</td>\n",
       "      <td>0</td>\n",
       "      <td>2</td>\n",
       "      <td>1</td>\n",
       "    </tr>\n",
       "    <tr>\n",
       "      <th>11</th>\n",
       "      <td>59</td>\n",
       "      <td>1</td>\n",
       "      <td>0</td>\n",
       "      <td>160</td>\n",
       "      <td>273</td>\n",
       "      <td>0</td>\n",
       "      <td>2</td>\n",
       "      <td>125</td>\n",
       "      <td>0</td>\n",
       "      <td>0.0</td>\n",
       "      <td>0</td>\n",
       "      <td>0</td>\n",
       "      <td>0</td>\n",
       "      <td>1</td>\n",
       "    </tr>\n",
       "    <tr>\n",
       "      <th>12</th>\n",
       "      <td>59</td>\n",
       "      <td>1</td>\n",
       "      <td>0</td>\n",
       "      <td>134</td>\n",
       "      <td>204</td>\n",
       "      <td>0</td>\n",
       "      <td>0</td>\n",
       "      <td>162</td>\n",
       "      <td>0</td>\n",
       "      <td>0.8</td>\n",
       "      <td>0</td>\n",
       "      <td>2</td>\n",
       "      <td>0</td>\n",
       "      <td>1</td>\n",
       "    </tr>\n",
       "    <tr>\n",
       "      <th>13</th>\n",
       "      <td>58</td>\n",
       "      <td>0</td>\n",
       "      <td>0</td>\n",
       "      <td>150</td>\n",
       "      <td>283</td>\n",
       "      <td>1</td>\n",
       "      <td>2</td>\n",
       "      <td>162</td>\n",
       "      <td>0</td>\n",
       "      <td>1.0</td>\n",
       "      <td>0</td>\n",
       "      <td>0</td>\n",
       "      <td>0</td>\n",
       "      <td>0</td>\n",
       "    </tr>\n",
       "    <tr>\n",
       "      <th>14</th>\n",
       "      <td>56</td>\n",
       "      <td>1</td>\n",
       "      <td>0</td>\n",
       "      <td>120</td>\n",
       "      <td>193</td>\n",
       "      <td>0</td>\n",
       "      <td>2</td>\n",
       "      <td>162</td>\n",
       "      <td>0</td>\n",
       "      <td>1.9</td>\n",
       "      <td>1</td>\n",
       "      <td>0</td>\n",
       "      <td>2</td>\n",
       "      <td>0</td>\n",
       "    </tr>\n",
       "    <tr>\n",
       "      <th>15</th>\n",
       "      <td>52</td>\n",
       "      <td>1</td>\n",
       "      <td>0</td>\n",
       "      <td>118</td>\n",
       "      <td>186</td>\n",
       "      <td>0</td>\n",
       "      <td>2</td>\n",
       "      <td>190</td>\n",
       "      <td>0</td>\n",
       "      <td>0.0</td>\n",
       "      <td>1</td>\n",
       "      <td>0</td>\n",
       "      <td>1</td>\n",
       "      <td>0</td>\n",
       "    </tr>\n",
       "    <tr>\n",
       "      <th>16</th>\n",
       "      <td>52</td>\n",
       "      <td>1</td>\n",
       "      <td>0</td>\n",
       "      <td>152</td>\n",
       "      <td>298</td>\n",
       "      <td>1</td>\n",
       "      <td>0</td>\n",
       "      <td>178</td>\n",
       "      <td>0</td>\n",
       "      <td>1.2</td>\n",
       "      <td>1</td>\n",
       "      <td>0</td>\n",
       "      <td>2</td>\n",
       "      <td>0</td>\n",
       "    </tr>\n",
       "    <tr>\n",
       "      <th>17</th>\n",
       "      <td>51</td>\n",
       "      <td>1</td>\n",
       "      <td>0</td>\n",
       "      <td>125</td>\n",
       "      <td>213</td>\n",
       "      <td>0</td>\n",
       "      <td>2</td>\n",
       "      <td>125</td>\n",
       "      <td>1</td>\n",
       "      <td>1.4</td>\n",
       "      <td>0</td>\n",
       "      <td>1</td>\n",
       "      <td>0</td>\n",
       "      <td>0</td>\n",
       "    </tr>\n",
       "    <tr>\n",
       "      <th>18</th>\n",
       "      <td>45</td>\n",
       "      <td>1</td>\n",
       "      <td>0</td>\n",
       "      <td>110</td>\n",
       "      <td>264</td>\n",
       "      <td>0</td>\n",
       "      <td>0</td>\n",
       "      <td>132</td>\n",
       "      <td>0</td>\n",
       "      <td>1.2</td>\n",
       "      <td>1</td>\n",
       "      <td>0</td>\n",
       "      <td>2</td>\n",
       "      <td>1</td>\n",
       "    </tr>\n",
       "    <tr>\n",
       "      <th>19</th>\n",
       "      <td>42</td>\n",
       "      <td>1</td>\n",
       "      <td>0</td>\n",
       "      <td>148</td>\n",
       "      <td>244</td>\n",
       "      <td>0</td>\n",
       "      <td>2</td>\n",
       "      <td>178</td>\n",
       "      <td>0</td>\n",
       "      <td>0.8</td>\n",
       "      <td>0</td>\n",
       "      <td>2</td>\n",
       "      <td>0</td>\n",
       "      <td>0</td>\n",
       "    </tr>\n",
       "    <tr>\n",
       "      <th>20</th>\n",
       "      <td>40</td>\n",
       "      <td>1</td>\n",
       "      <td>0</td>\n",
       "      <td>140</td>\n",
       "      <td>199</td>\n",
       "      <td>0</td>\n",
       "      <td>0</td>\n",
       "      <td>178</td>\n",
       "      <td>1</td>\n",
       "      <td>1.4</td>\n",
       "      <td>0</td>\n",
       "      <td>0</td>\n",
       "      <td>2</td>\n",
       "      <td>0</td>\n",
       "    </tr>\n",
       "    <tr>\n",
       "      <th>21</th>\n",
       "      <td>38</td>\n",
       "      <td>1</td>\n",
       "      <td>0</td>\n",
       "      <td>120</td>\n",
       "      <td>231</td>\n",
       "      <td>0</td>\n",
       "      <td>0</td>\n",
       "      <td>182</td>\n",
       "      <td>1</td>\n",
       "      <td>3.8</td>\n",
       "      <td>1</td>\n",
       "      <td>0</td>\n",
       "      <td>2</td>\n",
       "      <td>1</td>\n",
       "    </tr>\n",
       "    <tr>\n",
       "      <th>22</th>\n",
       "      <td>34</td>\n",
       "      <td>1</td>\n",
       "      <td>0</td>\n",
       "      <td>118</td>\n",
       "      <td>182</td>\n",
       "      <td>0</td>\n",
       "      <td>2</td>\n",
       "      <td>174</td>\n",
       "      <td>0</td>\n",
       "      <td>0.0</td>\n",
       "      <td>0</td>\n",
       "      <td>0</td>\n",
       "      <td>0</td>\n",
       "      <td>0</td>\n",
       "    </tr>\n",
       "    <tr>\n",
       "      <th>23</th>\n",
       "      <td>74</td>\n",
       "      <td>0</td>\n",
       "      <td>1</td>\n",
       "      <td>120</td>\n",
       "      <td>269</td>\n",
       "      <td>0</td>\n",
       "      <td>2</td>\n",
       "      <td>121</td>\n",
       "      <td>1</td>\n",
       "      <td>0.2</td>\n",
       "      <td>0</td>\n",
       "      <td>1</td>\n",
       "      <td>0</td>\n",
       "      <td>0</td>\n",
       "    </tr>\n",
       "    <tr>\n",
       "      <th>24</th>\n",
       "      <td>71</td>\n",
       "      <td>0</td>\n",
       "      <td>1</td>\n",
       "      <td>160</td>\n",
       "      <td>302</td>\n",
       "      <td>0</td>\n",
       "      <td>0</td>\n",
       "      <td>162</td>\n",
       "      <td>0</td>\n",
       "      <td>0.4</td>\n",
       "      <td>0</td>\n",
       "      <td>2</td>\n",
       "      <td>0</td>\n",
       "      <td>0</td>\n",
       "    </tr>\n",
       "    <tr>\n",
       "      <th>25</th>\n",
       "      <td>70</td>\n",
       "      <td>1</td>\n",
       "      <td>1</td>\n",
       "      <td>156</td>\n",
       "      <td>245</td>\n",
       "      <td>0</td>\n",
       "      <td>2</td>\n",
       "      <td>143</td>\n",
       "      <td>0</td>\n",
       "      <td>0.0</td>\n",
       "      <td>0</td>\n",
       "      <td>0</td>\n",
       "      <td>0</td>\n",
       "      <td>0</td>\n",
       "    </tr>\n",
       "    <tr>\n",
       "      <th>26</th>\n",
       "      <td>66</td>\n",
       "      <td>1</td>\n",
       "      <td>1</td>\n",
       "      <td>160</td>\n",
       "      <td>246</td>\n",
       "      <td>0</td>\n",
       "      <td>0</td>\n",
       "      <td>120</td>\n",
       "      <td>1</td>\n",
       "      <td>0.0</td>\n",
       "      <td>1</td>\n",
       "      <td>3</td>\n",
       "      <td>1</td>\n",
       "      <td>1</td>\n",
       "    </tr>\n",
       "    <tr>\n",
       "      <th>27</th>\n",
       "      <td>63</td>\n",
       "      <td>0</td>\n",
       "      <td>1</td>\n",
       "      <td>140</td>\n",
       "      <td>195</td>\n",
       "      <td>0</td>\n",
       "      <td>0</td>\n",
       "      <td>179</td>\n",
       "      <td>0</td>\n",
       "      <td>0.0</td>\n",
       "      <td>0</td>\n",
       "      <td>2</td>\n",
       "      <td>0</td>\n",
       "      <td>0</td>\n",
       "    </tr>\n",
       "    <tr>\n",
       "      <th>28</th>\n",
       "      <td>62</td>\n",
       "      <td>1</td>\n",
       "      <td>1</td>\n",
       "      <td>120</td>\n",
       "      <td>281</td>\n",
       "      <td>0</td>\n",
       "      <td>2</td>\n",
       "      <td>103</td>\n",
       "      <td>0</td>\n",
       "      <td>1.4</td>\n",
       "      <td>1</td>\n",
       "      <td>1</td>\n",
       "      <td>2</td>\n",
       "      <td>1</td>\n",
       "    </tr>\n",
       "    <tr>\n",
       "      <th>29</th>\n",
       "      <td>62</td>\n",
       "      <td>1</td>\n",
       "      <td>1</td>\n",
       "      <td>128</td>\n",
       "      <td>208</td>\n",
       "      <td>1</td>\n",
       "      <td>2</td>\n",
       "      <td>140</td>\n",
       "      <td>0</td>\n",
       "      <td>0.0</td>\n",
       "      <td>0</td>\n",
       "      <td>0</td>\n",
       "      <td>0</td>\n",
       "      <td>0</td>\n",
       "    </tr>\n",
       "  </tbody>\n",
       "</table>\n",
       "</div>"
      ],
      "text/plain": [
       "    age  sex  cp  trestbps  chol  fbs  restecg  thalach  exang  oldpeak  \\\n",
       "0    69    1   0       160   234    1        2      131      0      0.1   \n",
       "1    69    0   0       140   239    0        0      151      0      1.8   \n",
       "2    66    0   0       150   226    0        0      114      0      2.6   \n",
       "3    65    1   0       138   282    1        2      174      0      1.4   \n",
       "4    64    1   0       110   211    0        2      144      1      1.8   \n",
       "5    64    1   0       170   227    0        2      155      0      0.6   \n",
       "6    63    1   0       145   233    1        2      150      0      2.3   \n",
       "7    61    1   0       134   234    0        0      145      0      2.6   \n",
       "8    60    0   0       150   240    0        0      171      0      0.9   \n",
       "9    59    1   0       178   270    0        2      145      0      4.2   \n",
       "10   59    1   0       170   288    0        2      159      0      0.2   \n",
       "11   59    1   0       160   273    0        2      125      0      0.0   \n",
       "12   59    1   0       134   204    0        0      162      0      0.8   \n",
       "13   58    0   0       150   283    1        2      162      0      1.0   \n",
       "14   56    1   0       120   193    0        2      162      0      1.9   \n",
       "15   52    1   0       118   186    0        2      190      0      0.0   \n",
       "16   52    1   0       152   298    1        0      178      0      1.2   \n",
       "17   51    1   0       125   213    0        2      125      1      1.4   \n",
       "18   45    1   0       110   264    0        0      132      0      1.2   \n",
       "19   42    1   0       148   244    0        2      178      0      0.8   \n",
       "20   40    1   0       140   199    0        0      178      1      1.4   \n",
       "21   38    1   0       120   231    0        0      182      1      3.8   \n",
       "22   34    1   0       118   182    0        2      174      0      0.0   \n",
       "23   74    0   1       120   269    0        2      121      1      0.2   \n",
       "24   71    0   1       160   302    0        0      162      0      0.4   \n",
       "25   70    1   1       156   245    0        2      143      0      0.0   \n",
       "26   66    1   1       160   246    0        0      120      1      0.0   \n",
       "27   63    0   1       140   195    0        0      179      0      0.0   \n",
       "28   62    1   1       120   281    0        2      103      0      1.4   \n",
       "29   62    1   1       128   208    1        2      140      0      0.0   \n",
       "\n",
       "    slope  ca  thal  condition  \n",
       "0       1   1     0          0  \n",
       "1       0   2     0          0  \n",
       "2       2   0     0          0  \n",
       "3       1   1     0          1  \n",
       "4       1   0     0          0  \n",
       "5       1   0     2          0  \n",
       "6       2   0     1          0  \n",
       "7       1   2     0          1  \n",
       "8       0   0     0          0  \n",
       "9       2   0     2          0  \n",
       "10      1   0     2          1  \n",
       "11      0   0     0          1  \n",
       "12      0   2     0          1  \n",
       "13      0   0     0          0  \n",
       "14      1   0     2          0  \n",
       "15      1   0     1          0  \n",
       "16      1   0     2          0  \n",
       "17      0   1     0          0  \n",
       "18      1   0     2          1  \n",
       "19      0   2     0          0  \n",
       "20      0   0     2          0  \n",
       "21      1   0     2          1  \n",
       "22      0   0     0          0  \n",
       "23      0   1     0          0  \n",
       "24      0   2     0          0  \n",
       "25      0   0     0          0  \n",
       "26      1   3     1          1  \n",
       "27      0   2     0          0  \n",
       "28      1   1     2          1  \n",
       "29      0   0     0          0  "
      ]
     },
     "execution_count": 7,
     "metadata": {},
     "output_type": "execute_result"
    }
   ],
   "source": [
    "#lectura de datos para analisis exploratorio\n",
    "datos.head(30)"
   ]
  },
  {
   "cell_type": "code",
   "execution_count": 9,
   "id": "33935c8c-438c-4e42-9c67-c3d245ab595e",
   "metadata": {},
   "outputs": [
    {
     "data": {
      "text/html": [
       "<div>\n",
       "<style scoped>\n",
       "    .dataframe tbody tr th:only-of-type {\n",
       "        vertical-align: middle;\n",
       "    }\n",
       "\n",
       "    .dataframe tbody tr th {\n",
       "        vertical-align: top;\n",
       "    }\n",
       "\n",
       "    .dataframe thead th {\n",
       "        text-align: right;\n",
       "    }\n",
       "</style>\n",
       "<table border=\"1\" class=\"dataframe\">\n",
       "  <thead>\n",
       "    <tr style=\"text-align: right;\">\n",
       "      <th></th>\n",
       "      <th>age</th>\n",
       "      <th>sex</th>\n",
       "      <th>cp</th>\n",
       "      <th>trestbps</th>\n",
       "      <th>chol</th>\n",
       "      <th>fbs</th>\n",
       "      <th>restecg</th>\n",
       "      <th>thalach</th>\n",
       "      <th>exang</th>\n",
       "      <th>oldpeak</th>\n",
       "      <th>slope</th>\n",
       "      <th>ca</th>\n",
       "      <th>thal</th>\n",
       "      <th>condition</th>\n",
       "    </tr>\n",
       "  </thead>\n",
       "  <tbody>\n",
       "    <tr>\n",
       "      <th>count</th>\n",
       "      <td>297.000000</td>\n",
       "      <td>297.000000</td>\n",
       "      <td>297.000000</td>\n",
       "      <td>297.000000</td>\n",
       "      <td>297.000000</td>\n",
       "      <td>297.000000</td>\n",
       "      <td>297.000000</td>\n",
       "      <td>297.000000</td>\n",
       "      <td>297.000000</td>\n",
       "      <td>297.000000</td>\n",
       "      <td>297.000000</td>\n",
       "      <td>297.000000</td>\n",
       "      <td>297.000000</td>\n",
       "      <td>297.000000</td>\n",
       "    </tr>\n",
       "    <tr>\n",
       "      <th>mean</th>\n",
       "      <td>54.542088</td>\n",
       "      <td>0.676768</td>\n",
       "      <td>2.158249</td>\n",
       "      <td>131.693603</td>\n",
       "      <td>247.350168</td>\n",
       "      <td>0.144781</td>\n",
       "      <td>0.996633</td>\n",
       "      <td>149.599327</td>\n",
       "      <td>0.326599</td>\n",
       "      <td>1.055556</td>\n",
       "      <td>0.602694</td>\n",
       "      <td>0.676768</td>\n",
       "      <td>0.835017</td>\n",
       "      <td>0.461279</td>\n",
       "    </tr>\n",
       "    <tr>\n",
       "      <th>std</th>\n",
       "      <td>9.049736</td>\n",
       "      <td>0.468500</td>\n",
       "      <td>0.964859</td>\n",
       "      <td>17.762806</td>\n",
       "      <td>51.997583</td>\n",
       "      <td>0.352474</td>\n",
       "      <td>0.994914</td>\n",
       "      <td>22.941562</td>\n",
       "      <td>0.469761</td>\n",
       "      <td>1.166123</td>\n",
       "      <td>0.618187</td>\n",
       "      <td>0.938965</td>\n",
       "      <td>0.956690</td>\n",
       "      <td>0.499340</td>\n",
       "    </tr>\n",
       "    <tr>\n",
       "      <th>min</th>\n",
       "      <td>29.000000</td>\n",
       "      <td>0.000000</td>\n",
       "      <td>0.000000</td>\n",
       "      <td>94.000000</td>\n",
       "      <td>126.000000</td>\n",
       "      <td>0.000000</td>\n",
       "      <td>0.000000</td>\n",
       "      <td>71.000000</td>\n",
       "      <td>0.000000</td>\n",
       "      <td>0.000000</td>\n",
       "      <td>0.000000</td>\n",
       "      <td>0.000000</td>\n",
       "      <td>0.000000</td>\n",
       "      <td>0.000000</td>\n",
       "    </tr>\n",
       "    <tr>\n",
       "      <th>25%</th>\n",
       "      <td>48.000000</td>\n",
       "      <td>0.000000</td>\n",
       "      <td>2.000000</td>\n",
       "      <td>120.000000</td>\n",
       "      <td>211.000000</td>\n",
       "      <td>0.000000</td>\n",
       "      <td>0.000000</td>\n",
       "      <td>133.000000</td>\n",
       "      <td>0.000000</td>\n",
       "      <td>0.000000</td>\n",
       "      <td>0.000000</td>\n",
       "      <td>0.000000</td>\n",
       "      <td>0.000000</td>\n",
       "      <td>0.000000</td>\n",
       "    </tr>\n",
       "    <tr>\n",
       "      <th>50%</th>\n",
       "      <td>56.000000</td>\n",
       "      <td>1.000000</td>\n",
       "      <td>2.000000</td>\n",
       "      <td>130.000000</td>\n",
       "      <td>243.000000</td>\n",
       "      <td>0.000000</td>\n",
       "      <td>1.000000</td>\n",
       "      <td>153.000000</td>\n",
       "      <td>0.000000</td>\n",
       "      <td>0.800000</td>\n",
       "      <td>1.000000</td>\n",
       "      <td>0.000000</td>\n",
       "      <td>0.000000</td>\n",
       "      <td>0.000000</td>\n",
       "    </tr>\n",
       "    <tr>\n",
       "      <th>75%</th>\n",
       "      <td>61.000000</td>\n",
       "      <td>1.000000</td>\n",
       "      <td>3.000000</td>\n",
       "      <td>140.000000</td>\n",
       "      <td>276.000000</td>\n",
       "      <td>0.000000</td>\n",
       "      <td>2.000000</td>\n",
       "      <td>166.000000</td>\n",
       "      <td>1.000000</td>\n",
       "      <td>1.600000</td>\n",
       "      <td>1.000000</td>\n",
       "      <td>1.000000</td>\n",
       "      <td>2.000000</td>\n",
       "      <td>1.000000</td>\n",
       "    </tr>\n",
       "    <tr>\n",
       "      <th>max</th>\n",
       "      <td>77.000000</td>\n",
       "      <td>1.000000</td>\n",
       "      <td>3.000000</td>\n",
       "      <td>200.000000</td>\n",
       "      <td>564.000000</td>\n",
       "      <td>1.000000</td>\n",
       "      <td>2.000000</td>\n",
       "      <td>202.000000</td>\n",
       "      <td>1.000000</td>\n",
       "      <td>6.200000</td>\n",
       "      <td>2.000000</td>\n",
       "      <td>3.000000</td>\n",
       "      <td>2.000000</td>\n",
       "      <td>1.000000</td>\n",
       "    </tr>\n",
       "  </tbody>\n",
       "</table>\n",
       "</div>"
      ],
      "text/plain": [
       "              age         sex          cp    trestbps        chol         fbs  \\\n",
       "count  297.000000  297.000000  297.000000  297.000000  297.000000  297.000000   \n",
       "mean    54.542088    0.676768    2.158249  131.693603  247.350168    0.144781   \n",
       "std      9.049736    0.468500    0.964859   17.762806   51.997583    0.352474   \n",
       "min     29.000000    0.000000    0.000000   94.000000  126.000000    0.000000   \n",
       "25%     48.000000    0.000000    2.000000  120.000000  211.000000    0.000000   \n",
       "50%     56.000000    1.000000    2.000000  130.000000  243.000000    0.000000   \n",
       "75%     61.000000    1.000000    3.000000  140.000000  276.000000    0.000000   \n",
       "max     77.000000    1.000000    3.000000  200.000000  564.000000    1.000000   \n",
       "\n",
       "          restecg     thalach       exang     oldpeak       slope          ca  \\\n",
       "count  297.000000  297.000000  297.000000  297.000000  297.000000  297.000000   \n",
       "mean     0.996633  149.599327    0.326599    1.055556    0.602694    0.676768   \n",
       "std      0.994914   22.941562    0.469761    1.166123    0.618187    0.938965   \n",
       "min      0.000000   71.000000    0.000000    0.000000    0.000000    0.000000   \n",
       "25%      0.000000  133.000000    0.000000    0.000000    0.000000    0.000000   \n",
       "50%      1.000000  153.000000    0.000000    0.800000    1.000000    0.000000   \n",
       "75%      2.000000  166.000000    1.000000    1.600000    1.000000    1.000000   \n",
       "max      2.000000  202.000000    1.000000    6.200000    2.000000    3.000000   \n",
       "\n",
       "             thal   condition  \n",
       "count  297.000000  297.000000  \n",
       "mean     0.835017    0.461279  \n",
       "std      0.956690    0.499340  \n",
       "min      0.000000    0.000000  \n",
       "25%      0.000000    0.000000  \n",
       "50%      0.000000    0.000000  \n",
       "75%      2.000000    1.000000  \n",
       "max      2.000000    1.000000  "
      ]
     },
     "execution_count": 9,
     "metadata": {},
     "output_type": "execute_result"
    }
   ],
   "source": [
    "#descripcion de los datos \n",
    "datos.describe()"
   ]
  },
  {
   "cell_type": "code",
   "execution_count": 13,
   "id": "93e31568-2a5c-49d2-b7a0-988fad6d891c",
   "metadata": {},
   "outputs": [
    {
     "data": {
      "text/plain": [
       "Text(0.5, 1.0, 'Identificación de datos faltantes y atípicos')"
      ]
     },
     "execution_count": 13,
     "metadata": {},
     "output_type": "execute_result"
    },
    {
     "data": {
      "image/png": "[encoded data removed]",
      "text/plain": [
       "<Figure size 600x300 with 1 Axes>"
      ]
     },
     "metadata": {},
     "output_type": "display_data"
    }
   ],
   "source": [
    "#identificacion datos faltantes y atipicos \n",
    "plt.figure(figsize=(6,3))\n",
    "sns.boxplot(x=datos['cp'])\n",
    "plt.title('Identificación de datos faltantes y atípicos', fontsize=10)"
   ]
  },
  {
   "cell_type": "code",
   "execution_count": 15,
   "id": "f03381b0-4edd-4fbe-9be4-29270655e365",
   "metadata": {},
   "outputs": [
    {
     "data": {
      "text/plain": [
       "Text(0.5, 1.0, 'Identificación de datos faltantes y atípicos')"
      ]
     },
     "execution_count": 15,
     "metadata": {},
     "output_type": "execute_result"
    },
    {
     "data": {
      "image/png": "[encoded data removed]",
      "text/plain": [
       "<Figure size 600x300 with 1 Axes>"
      ]
     },
     "metadata": {},
     "output_type": "display_data"
    }
   ],
   "source": [
    "#identificacion datos faltantes y atipicos \n",
    "plt.figure(figsize=(6,3))\n",
    "sns.boxplot(x=datos['chol'])\n",
    "plt.title('Identificación de datos faltantes y atípicos', fontsize=10)"
   ]
  },
  {
   "cell_type": "code",
   "execution_count": 17,
   "id": "c56b621c-d00a-4649-9e09-569c41c1099b",
   "metadata": {},
   "outputs": [
    {
     "data": {
      "text/plain": [
       "Text(0.5, 1.0, 'Identificación de datos faltantes y atípicos')"
      ]
     },
     "execution_count": 17,
     "metadata": {},
     "output_type": "execute_result"
    },
    {
     "data": {
      "image/png": "[encoded data removed]",
      "text/plain": [
       "<Figure size 600x300 with 1 Axes>"
      ]
     },
     "metadata": {},
     "output_type": "display_data"
    }
   ],
   "source": [
    "#identificacion datos faltantes y atipicos \n",
    "plt.figure(figsize=(6,3))\n",
    "sns.boxplot(x=datos['trestbps'])\n",
    "plt.title('Identificación de datos faltantes y atípicos', fontsize=10)"
   ]
  },
  {
   "cell_type": "code",
   "execution_count": 23,
   "id": "3b0e0535-57fb-4bf9-83e0-2cc440bfe3a0",
   "metadata": {},
   "outputs": [
    {
     "data": {
      "text/plain": [
       "Text(0.5, 1.0, 'Identificación de datos faltantes y atípicos')"
      ]
     },
     "execution_count": 23,
     "metadata": {},
     "output_type": "execute_result"
    },
    {
     "data": {
      "image/png": "[encoded data removed]",
      "text/plain": [
       "<Figure size 600x300 with 1 Axes>"
      ]
     },
     "metadata": {},
     "output_type": "display_data"
    }
   ],
   "source": [
    "#identificacion datos faltantes y atipicos \n",
    "plt.figure(figsize=(6,3))\n",
    "sns.boxplot(x=datos['thalach'])\n",
    "plt.title('Identificación de datos faltantes y atípicos', fontsize=10)"
   ]
  },
  {
   "cell_type": "code",
   "execution_count": 27,
   "id": "e9ba2c13-95f2-460c-8463-1c90d91ff0df",
   "metadata": {},
   "outputs": [
    {
     "data": {
      "text/plain": [
       "Text(0.5, 1.0, 'Identificación de datos faltantes y atípicos')"
      ]
     },
     "execution_count": 27,
     "metadata": {},
     "output_type": "execute_result"
    },
    {
     "data": {
      "image/png": "[encoded data removed]",
      "text/plain": [
       "<Figure size 600x300 with 1 Axes>"
      ]
     },
     "metadata": {},
     "output_type": "display_data"
    }
   ],
   "source": [
    "#identificacion datos faltantes y atipicos \n",
    "plt.figure(figsize=(6,3))\n",
    "sns.boxplot(x=datos['oldpeak'])\n",
    "plt.title('Identificación de datos faltantes y atípicos', fontsize=10)"
   ]
  },
  {
   "cell_type": "code",
   "execution_count": 31,
   "id": "a6c47245-c2e9-44d8-9831-c9eb888092d8",
   "metadata": {},
   "outputs": [
    {
     "name": "stdout",
     "output_type": "stream",
     "text": [
      "procesar los datos limpiandolos, trtando datos faltantes y transformandolos segun corresponda\n"
     ]
    }
   ],
   "source": [
    "print ('procesar los datos limpiandolos, trtando datos faltantes y transformandolos segun corresponda')"
   ]
  },
  {
   "cell_type": "code",
   "execution_count": 33,
   "id": "a986ff40-f01f-4f2e-bd1c-a9aecf2f6a4f",
   "metadata": {},
   "outputs": [
    {
     "name": "stdout",
     "output_type": "stream",
     "text": [
      "cantidad de Depresión del ST inducida por el ejercicio en relación con el reposo: 96\n",
      "número de vasos principales (0-3) coloreados por fluoroscopia: 174\n"
     ]
    }
   ],
   "source": [
    "print(\"cantidad de Depresión del ST inducida por el ejercicio en relación con el reposo:\", datos['oldpeak'].isin([0]).sum())\n",
    "print(\"número de vasos principales (0-3) coloreados por fluoroscopia:\", datos['ca'].isin([0]).sum())"
   ]
  },
  {
   "cell_type": "code",
   "execution_count": 39,
   "id": "be83ddcf-56f1-4abf-9247-ad7bb308b2be",
   "metadata": {},
   "outputs": [],
   "source": [
    "#reemplazar todos los ceros con el valor medio (promedio) de la columna \n",
    "datos['oldpeak']=datos['oldpeak'].replace(0,datos['oldpeak'].mean())\n",
    "datos['ca']=datos['ca'].replace(0,datos['ca'].mean())"
   ]
  },
  {
   "cell_type": "code",
   "execution_count": 41,
   "id": "8f054781-a732-42d6-8f51-64ba5371b076",
   "metadata": {},
   "outputs": [
    {
     "name": "stdout",
     "output_type": "stream",
     "text": [
      "cantidad de Depresión del ST inducida por el ejercicio en relación con el reposo: 0\n",
      "número de vasos principales (0-3) coloreados por fluoroscopia: 0\n"
     ]
    }
   ],
   "source": [
    "#revision de datos faltantes\n",
    "print(\"cantidad de Depresión del ST inducida por el ejercicio en relación con el reposo:\", datos['oldpeak'].isin([0]).sum())\n",
    "print(\"número de vasos principales (0-3) coloreados por fluoroscopia:\", datos['ca'].isin([0]).sum())"
   ]
  },
  {
   "cell_type": "code",
   "execution_count": 45,
   "id": "caaa9bfd-f0bb-4a36-9c61-c0c9f45aaae0",
   "metadata": {},
   "outputs": [
    {
     "name": "stdout",
     "output_type": "stream",
     "text": [
      "el total de datos atipicos es 50\n"
     ]
    }
   ],
   "source": [
    "#conteo de datos atipicos OLDPEAK\n",
    "nivel_minimo=0\n",
    "nivel_maximo=2\n",
    "Total_Atipicos=((datos['oldpeak']<nivel_minimo)|(datos['oldpeak']>nivel_maximo)).sum()\n",
    "print (\"el total de datos atipicos es {}\".format (Total_Atipicos))"
   ]
  },
  {
   "cell_type": "code",
   "execution_count": 47,
   "id": "b22632ed-2da1-4f38-b206-13051b5ef91d",
   "metadata": {},
   "outputs": [],
   "source": [
    "#filtrar datos atipicos OLDPEAK\n",
    "datos=datos[(datos['oldpeak']<nivel_maximo)&(datos['oldpeak']>nivel_minimo)]"
   ]
  },
  {
   "cell_type": "code",
   "execution_count": 49,
   "id": "66c3c4ee-d361-403f-8358-a8d79414e843",
   "metadata": {},
   "outputs": [
    {
     "name": "stdout",
     "output_type": "stream",
     "text": [
      "el total de datos atipicos es 0\n"
     ]
    }
   ],
   "source": [
    "#validar si se removieron los datos atipicos OLDPEAK\n",
    "Total_Atipicos=((datos['oldpeak']<nivel_minimo)|(datos['oldpeak']>nivel_maximo)).sum()\n",
    "print (\"el total de datos atipicos es {}\".format (Total_Atipicos))"
   ]
  },
  {
   "cell_type": "code",
   "execution_count": 51,
   "id": "accaf323-04dd-4551-a8f9-bc5f3cdc550f",
   "metadata": {},
   "outputs": [
    {
     "name": "stdout",
     "output_type": "stream",
     "text": [
      "el total de datos atipicos es 38\n"
     ]
    }
   ],
   "source": [
    "#conteo de datos atipicos chol\n",
    "nivel_minimo=200\n",
    "nivel_maximo=500\n",
    "Total_Atipicos=((datos['chol']<nivel_minimo)|(datos['chol']>nivel_maximo)).sum()\n",
    "print (\"el total de datos atipicos es {}\".format (Total_Atipicos))"
   ]
  },
  {
   "cell_type": "code",
   "execution_count": 53,
   "id": "6f55d2f5-c039-40c9-a5ae-7daae1f9e933",
   "metadata": {},
   "outputs": [],
   "source": [
    "#filtrar datos atipicos chol\n",
    "datos=datos[(datos['chol']<nivel_maximo)&(datos['chol']>nivel_minimo)]"
   ]
  },
  {
   "cell_type": "code",
   "execution_count": 55,
   "id": "955209a7-1366-4fab-812e-f789736bccec",
   "metadata": {},
   "outputs": [
    {
     "name": "stdout",
     "output_type": "stream",
     "text": [
      "el total de datos atipicos es 0\n"
     ]
    }
   ],
   "source": [
    "#validar si se removieron los datos atipicos chol\n",
    "Total_Atipicos=((datos['chol']<nivel_minimo)|(datos['chol']>nivel_maximo)).sum()\n",
    "print (\"el total de datos atipicos es {}\".format (Total_Atipicos))"
   ]
  },
  {
   "cell_type": "code",
   "execution_count": 57,
   "id": "eded6209-67a2-45b5-b078-4afe312ed704",
   "metadata": {},
   "outputs": [
    {
     "name": "stdout",
     "output_type": "stream",
     "text": [
      "el total de datos atipicos es 2\n"
     ]
    }
   ],
   "source": [
    "#conteo de datos atipicos trestbps\n",
    "nivel_minimo=100\n",
    "nivel_maximo=180\n",
    "Total_Atipicos=((datos['trestbps']<nivel_minimo)|(datos['trestbps']>nivel_maximo)).sum()\n",
    "print (\"el total de datos atipicos es {}\".format (Total_Atipicos))"
   ]
  },
  {
   "cell_type": "code",
   "execution_count": 59,
   "id": "1b04fbb8-54cc-4622-8de6-8f5bf5ad24f8",
   "metadata": {},
   "outputs": [],
   "source": [
    "#filtrar datos atipicos trestbps\n",
    "datos=datos[(datos['trestbps']<nivel_maximo)&(datos['trestbps']>nivel_minimo)]"
   ]
  },
  {
   "cell_type": "code",
   "execution_count": 61,
   "id": "0eaf384a-51ba-419b-8711-ead005a65d3f",
   "metadata": {},
   "outputs": [
    {
     "name": "stdout",
     "output_type": "stream",
     "text": [
      "el total de datos atipicos es 0\n"
     ]
    }
   ],
   "source": [
    "#validar si se removieron los datos atipicos trestbps\n",
    "Total_Atipicos=((datos['trestbps']<nivel_minimo)|(datos['trestbps']>nivel_maximo)).sum()\n",
    "print (\"el total de datos atipicos es {}\".format (Total_Atipicos))"
   ]
  },
  {
   "cell_type": "code",
   "execution_count": 63,
   "id": "2d3beb60-e985-4842-a868-ed63ec5a8e6a",
   "metadata": {},
   "outputs": [
    {
     "name": "stdout",
     "output_type": "stream",
     "text": [
      "el total de datos atipicos es 2\n"
     ]
    }
   ],
   "source": [
    "#conteo de datos atipicos thalach\n",
    "nivel_minimo=80\n",
    "nivel_maximo=200\n",
    "Total_Atipicos=((datos['thalach']<nivel_minimo)|(datos['thalach']>nivel_maximo)).sum()\n",
    "print (\"el total de datos atipicos es {}\".format (Total_Atipicos))"
   ]
  },
  {
   "cell_type": "code",
   "execution_count": 65,
   "id": "ed5a08de-d7ee-4a27-a975-4889ac6f3ff4",
   "metadata": {},
   "outputs": [],
   "source": [
    "#filtrar datos atipicos thalach\n",
    "datos=datos[(datos['thalach']<nivel_maximo)&(datos['thalach']>nivel_minimo)]"
   ]
  },
  {
   "cell_type": "code",
   "execution_count": 67,
   "id": "c04e813d-31da-40fa-9172-dc4caffda564",
   "metadata": {},
   "outputs": [
    {
     "name": "stdout",
     "output_type": "stream",
     "text": [
      "el total de datos atipicos es 0\n"
     ]
    }
   ],
   "source": [
    "#validar si se removieron los datos atipicos thalach\n",
    "Total_Atipicos=((datos['thalach']<nivel_minimo)|(datos['thalach']>nivel_maximo)).sum()\n",
    "print (\"el total de datos atipicos es {}\".format (Total_Atipicos))"
   ]
  },
  {
   "cell_type": "code",
   "execution_count": 69,
   "id": "4bb8166f-01b1-4fd2-a635-88ce1df00fe0",
   "metadata": {},
   "outputs": [
    {
     "name": "stdout",
     "output_type": "stream",
     "text": [
      "SELECCIONAR LAS CARACTERISTICAS MAS RELEVANTES PARA ENTRENAR EL MODELO UTILIZANDO SELECCION DE CARACTERISTICAS\n",
      "CARACTERISTICA DE INTERES:\n",
      "ENFERMEDAD CARDIACA: SI LA PERSONA TIENE O NO ( 0 = NO 1= SI)\n",
      "PREDECIR SI UNA PERSONA PUEDE TENER UNA ENFERMEDAD CARDIACA\n"
     ]
    }
   ],
   "source": [
    "print ('SELECCIONAR LAS CARACTERISTICAS MAS RELEVANTES PARA ENTRENAR EL MODELO UTILIZANDO SELECCION DE CARACTERISTICAS')\n",
    "print ('CARACTERISTICA DE INTERES:')\n",
    "print ('ENFERMEDAD CARDIACA: SI LA PERSONA TIENE O NO ( 0 = NO 1= SI)')\n",
    "print ('PREDECIR SI UNA PERSONA PUEDE TENER UNA ENFERMEDAD CARDIACA')"
   ]
  },
  {
   "cell_type": "code",
   "execution_count": 77,
   "id": "e4c1b593-3376-4340-9c39-c2c91d9025cd",
   "metadata": {},
   "outputs": [
    {
     "data": {
      "text/plain": [
       "condition\n",
       "0    117\n",
       "1     72\n",
       "Name: count, dtype: int64"
      ]
     },
     "execution_count": 77,
     "metadata": {},
     "output_type": "execute_result"
    }
   ],
   "source": [
    "#total de personas con enfermedad cardiaca \n",
    "datos['condition'].value_counts()"
   ]
  },
  {
   "cell_type": "code",
   "execution_count": 81,
   "id": "470d703e-33ec-4573-bb59-828a1f4bae8f",
   "metadata": {},
   "outputs": [
    {
     "name": "stdout",
     "output_type": "stream",
     "text": [
      "DIVIR EL DATASETE EN TRAIIN Y TEST PARA EVALUAR CORRECTAMENTE EL MODELO\n"
     ]
    }
   ],
   "source": [
    "print ('DIVIR EL DATASETE EN TRAIIN Y TEST PARA EVALUAR CORRECTAMENTE EL MODELO')\n"
   ]
  },
  {
   "cell_type": "code",
   "execution_count": 89,
   "id": "d49280ab-de00-470e-b0f8-347138f49c5a",
   "metadata": {},
   "outputs": [],
   "source": [
    "#porcentaje de datos para entrenamiento (train) 75% y para prueba (test) 25%\n",
    "#se crean variables X y Y para almacenar la informacion\n",
    "\n",
    "x=datos.drop ('condition', axis=1) #se cargan los datos de train sin los datos de la columna condition\n",
    "y=datos['condition'] #se cargan los datos de train con los datos de la columna condition\n",
    "\n",
    "#la funcion train_test_split crea una division de un conjunto de datos en dos bloques de entrenamiento y otro de prueba (train & test)\n",
    "\n",
    "x_train, x_test, y_train, y_test= train_test_split(x,y, test_size=0.25, stratify=y, random_state=0)"
   ]
  },
  {
   "cell_type": "code",
   "execution_count": 85,
   "id": "c059b2ce-5b99-41ac-b9df-a774bdb5389e",
   "metadata": {},
   "outputs": [
    {
     "name": "stdout",
     "output_type": "stream",
     "text": [
      "     age  sex  cp  trestbps  chol  fbs  restecg  thalach  exang   oldpeak  \\\n",
      "0     69    1   0       160   234    1        2      131      0  0.100000   \n",
      "149   41    0   2       112   268    0        2      172      1  1.055556   \n",
      "17    51    1   0       125   213    0        2      125      1  1.400000   \n",
      "132   47    1   2       138   257    0        2      156      0  1.055556   \n",
      "241   55    1   3       160   289    0        2      145      1  0.800000   \n",
      "..   ...  ...  ..       ...   ...  ...      ...      ...    ...       ...   \n",
      "167   66    0   3       178   228    1        0      165      1  1.000000   \n",
      "202   60    1   3       140   293    0        2      170      0  1.200000   \n",
      "145   42    0   2       120   209    0        0      173      0  1.055556   \n",
      "190   62    0   3       150   244    0        0      154      1  1.400000   \n",
      "247   54    1   3       110   206    0        2      108      1  1.055556   \n",
      "\n",
      "     slope        ca  thal  \n",
      "0        1  1.000000     0  \n",
      "149      0  0.676768     0  \n",
      "17       0  1.000000     0  \n",
      "132      0  0.676768     0  \n",
      "241      1  1.000000     2  \n",
      "..     ...       ...   ...  \n",
      "167      1  2.000000     2  \n",
      "202      1  2.000000     2  \n",
      "145      1  0.676768     0  \n",
      "190      1  0.676768     0  \n",
      "247      1  1.000000     0  \n",
      "\n",
      "[141 rows x 13 columns]\n"
     ]
    }
   ],
   "source": [
    "print (x_train)"
   ]
  },
  {
   "cell_type": "code",
   "execution_count": 91,
   "id": "af9d22c8-d53a-4f73-92b0-bb1df1294745",
   "metadata": {},
   "outputs": [
    {
     "name": "stdout",
     "output_type": "stream",
     "text": [
      "     age  sex  cp  trestbps  chol  fbs  restecg  thalach  exang   oldpeak  \\\n",
      "274   46    1   3       120   249    0        2      144      0  0.800000   \n",
      "29    62    1   1       128   208    1        2      140      0  1.055556   \n",
      "278   45    1   3       115   260    0        2      185      0  1.055556   \n",
      "42    55    0   1       132   342    0        0      166      0  1.200000   \n",
      "209   59    0   3       174   249    0        0      143      1  1.055556   \n",
      "48    52    1   1       128   205    1        0      184      0  1.055556   \n",
      "259   51    0   3       130   305    0        0      142      1  1.200000   \n",
      "43    54    1   1       108   309    0        0      156      0  1.055556   \n",
      "143   43    1   2       130   315    0        0      162      0  1.900000   \n",
      "66    41    1   1       110   235    0        0      153      0  1.055556   \n",
      "133   47    1   2       108   243    0        0      152      0  1.055556   \n",
      "195   61    0   3       130   330    0        2      169      0  1.055556   \n",
      "106   56    1   2       130   256    1        2      142      1  0.600000   \n",
      "261   51    1   3       140   261    0        2      186      1  1.055556   \n",
      "155   77    1   3       125   304    0        2      162      1  1.055556   \n",
      "258   52    1   3       125   212    0        0      168      0  1.000000   \n",
      "140   44    1   2       140   235    0        2      180      0  1.055556   \n",
      "183   63    1   3       130   330    1        2      132      1  1.800000   \n",
      "257   52    1   3       112   230    0        0      160      0  1.055556   \n",
      "193   61    0   3       145   307    0        2      146      1  1.000000   \n",
      "11    59    1   0       160   273    0        2      125      0  1.055556   \n",
      "3     65    1   0       138   282    1        2      174      0  1.400000   \n",
      "121   51    0   2       140   308    0        2      142      0  1.500000   \n",
      "267   48    1   3       124   274    0        2      166      0  0.500000   \n",
      "125   50    0   2       120   219    0        0      158      0  1.600000   \n",
      "62    42    1   1       120   295    0        0      162      0  1.055556   \n",
      "148   41    1   2       112   250    0        0      179      0  1.055556   \n",
      "102   58    1   2       140   211    1        2      165      0  1.055556   \n",
      "82    66    0   2       146   278    0        2      152      0  1.055556   \n",
      "12    59    1   0       134   204    0        0      162      0  0.800000   \n",
      "285   43    1   3       150   247    0        0      171      0  1.500000   \n",
      "131   48    1   2       124   255    1        0      175      0  1.055556   \n",
      "83    65    0   2       140   417    1        2      157      0  0.800000   \n",
      "266   49    0   3       130   269    0        0      163      0  1.055556   \n",
      "124   51    0   2       120   295    0        2      157      0  0.600000   \n",
      "165   67    0   3       106   223    0        0      142      0  0.300000   \n",
      "113   54    0   2       160   201    0        0      163      0  1.055556   \n",
      "162   67    1   3       125   254    1        0      163      0  0.200000   \n",
      "63    41    1   1       135   203    0        0      132      0  1.055556   \n",
      "34    57    1   1       124   261    0        0      141      0  0.300000   \n",
      "154   37    0   2       120   215    0        0      170      0  1.055556   \n",
      "224   57    1   3       150   276    0        2      112      1  0.600000   \n",
      "23    74    0   1       120   269    0        2      121      1  0.200000   \n",
      "78    68    1   2       118   277    0        0      151      0  1.000000   \n",
      "112   54    0   2       108   267    0        2      167      0  1.055556   \n",
      "144   42    1   2       120   240    1        0      194      0  0.800000   \n",
      "276   45    0   3       138   236    0        2      152      1  0.200000   \n",
      "256   52    1   3       108   233    1        0      147      0  0.100000   \n",
      "\n",
      "     slope        ca  thal  \n",
      "274      0  0.676768     2  \n",
      "29       0  0.676768     0  \n",
      "278      0  0.676768     0  \n",
      "42       0  0.676768     0  \n",
      "209      1  0.676768     0  \n",
      "48       0  0.676768     0  \n",
      "259      1  0.676768     2  \n",
      "43       0  0.676768     2  \n",
      "143      0  1.000000     0  \n",
      "66       0  0.676768     0  \n",
      "133      0  0.676768     0  \n",
      "195      0  0.676768     0  \n",
      "106      1  1.000000     1  \n",
      "261      0  0.676768     0  \n",
      "155      0  3.000000     0  \n",
      "258      0  2.000000     2  \n",
      "140      0  0.676768     0  \n",
      "183      0  3.000000     2  \n",
      "257      0  1.000000     0  \n",
      "193      1  0.676768     2  \n",
      "11       0  0.676768     0  \n",
      "3        1  1.000000     0  \n",
      "121      0  1.000000     0  \n",
      "267      1  0.676768     2  \n",
      "125      1  0.676768     0  \n",
      "62       0  0.676768     0  \n",
      "148      0  0.676768     0  \n",
      "102      0  0.676768     0  \n",
      "82       1  1.000000     0  \n",
      "12       0  2.000000     0  \n",
      "285      0  0.676768     0  \n",
      "131      0  2.000000     0  \n",
      "83       0  1.000000     0  \n",
      "266      0  0.676768     0  \n",
      "124      0  0.676768     0  \n",
      "165      0  2.000000     0  \n",
      "113      0  1.000000     0  \n",
      "162      1  2.000000     2  \n",
      "63       1  0.676768     1  \n",
      "34       0  0.676768     2  \n",
      "154      0  0.676768     0  \n",
      "224      1  1.000000     1  \n",
      "23       0  1.000000     0  \n",
      "78       0  1.000000     2  \n",
      "112      0  0.676768     0  \n",
      "144      2  0.676768     2  \n",
      "276      1  0.676768     0  \n",
      "256      0  3.000000     2  \n"
     ]
    }
   ],
   "source": [
    "print (x_test)"
   ]
  },
  {
   "cell_type": "code",
   "execution_count": 93,
   "id": "d503c65e-183e-44db-9b3b-b12aea3dcc41",
   "metadata": {},
   "outputs": [
    {
     "name": "stdout",
     "output_type": "stream",
     "text": [
      "ENTRENAR EL MODELO CONFIGURANDO LOS DIFERENTES HIPERPARAMETROS\n"
     ]
    }
   ],
   "source": [
    "print ('ENTRENAR EL MODELO CONFIGURANDO LOS DIFERENTES HIPERPARAMETROS')\n",
    "\n"
   ]
  },
  {
   "cell_type": "code",
   "execution_count": 95,
   "id": "f028e476-4dd7-4931-a5fe-804140a1105f",
   "metadata": {},
   "outputs": [],
   "source": [
    "#contruir el modelo de regresion logistica\n",
    "modelo_regresion=LogisticRegression (solver=\"liblinear\") # libreria para resoler problemas lineales de clasificacion y regresion\n",
    "modelo_regresion.fit ( x_train, y_train)\n",
    "\n",
    "#crea el modelo del prediccion\n",
    "prediccion = modelo_regresion.predict(x_test) #predice los valores a partir del conjunto de datos de validacion"
   ]
  },
  {
   "cell_type": "code",
   "execution_count": 97,
   "id": "1e7d0a85-e77a-457c-b30a-44299588828f",
   "metadata": {},
   "outputs": [
    {
     "data": {
      "text/html": [
       "<div>\n",
       "<style scoped>\n",
       "    .dataframe tbody tr th:only-of-type {\n",
       "        vertical-align: middle;\n",
       "    }\n",
       "\n",
       "    .dataframe tbody tr th {\n",
       "        vertical-align: top;\n",
       "    }\n",
       "\n",
       "    .dataframe thead th {\n",
       "        text-align: right;\n",
       "    }\n",
       "</style>\n",
       "<table border=\"1\" class=\"dataframe\">\n",
       "  <thead>\n",
       "    <tr style=\"text-align: right;\">\n",
       "      <th></th>\n",
       "      <th>age</th>\n",
       "      <th>sex</th>\n",
       "      <th>cp</th>\n",
       "      <th>trestbps</th>\n",
       "      <th>chol</th>\n",
       "      <th>fbs</th>\n",
       "      <th>restecg</th>\n",
       "      <th>thalach</th>\n",
       "      <th>exang</th>\n",
       "      <th>oldpeak</th>\n",
       "      <th>slope</th>\n",
       "      <th>ca</th>\n",
       "      <th>thal</th>\n",
       "    </tr>\n",
       "  </thead>\n",
       "  <tbody>\n",
       "    <tr>\n",
       "      <th>274</th>\n",
       "      <td>46</td>\n",
       "      <td>1</td>\n",
       "      <td>3</td>\n",
       "      <td>120</td>\n",
       "      <td>249</td>\n",
       "      <td>0</td>\n",
       "      <td>2</td>\n",
       "      <td>144</td>\n",
       "      <td>0</td>\n",
       "      <td>0.800000</td>\n",
       "      <td>0</td>\n",
       "      <td>0.676768</td>\n",
       "      <td>2</td>\n",
       "    </tr>\n",
       "    <tr>\n",
       "      <th>29</th>\n",
       "      <td>62</td>\n",
       "      <td>1</td>\n",
       "      <td>1</td>\n",
       "      <td>128</td>\n",
       "      <td>208</td>\n",
       "      <td>1</td>\n",
       "      <td>2</td>\n",
       "      <td>140</td>\n",
       "      <td>0</td>\n",
       "      <td>1.055556</td>\n",
       "      <td>0</td>\n",
       "      <td>0.676768</td>\n",
       "      <td>0</td>\n",
       "    </tr>\n",
       "    <tr>\n",
       "      <th>278</th>\n",
       "      <td>45</td>\n",
       "      <td>1</td>\n",
       "      <td>3</td>\n",
       "      <td>115</td>\n",
       "      <td>260</td>\n",
       "      <td>0</td>\n",
       "      <td>2</td>\n",
       "      <td>185</td>\n",
       "      <td>0</td>\n",
       "      <td>1.055556</td>\n",
       "      <td>0</td>\n",
       "      <td>0.676768</td>\n",
       "      <td>0</td>\n",
       "    </tr>\n",
       "    <tr>\n",
       "      <th>42</th>\n",
       "      <td>55</td>\n",
       "      <td>0</td>\n",
       "      <td>1</td>\n",
       "      <td>132</td>\n",
       "      <td>342</td>\n",
       "      <td>0</td>\n",
       "      <td>0</td>\n",
       "      <td>166</td>\n",
       "      <td>0</td>\n",
       "      <td>1.200000</td>\n",
       "      <td>0</td>\n",
       "      <td>0.676768</td>\n",
       "      <td>0</td>\n",
       "    </tr>\n",
       "    <tr>\n",
       "      <th>209</th>\n",
       "      <td>59</td>\n",
       "      <td>0</td>\n",
       "      <td>3</td>\n",
       "      <td>174</td>\n",
       "      <td>249</td>\n",
       "      <td>0</td>\n",
       "      <td>0</td>\n",
       "      <td>143</td>\n",
       "      <td>1</td>\n",
       "      <td>1.055556</td>\n",
       "      <td>1</td>\n",
       "      <td>0.676768</td>\n",
       "      <td>0</td>\n",
       "    </tr>\n",
       "    <tr>\n",
       "      <th>48</th>\n",
       "      <td>52</td>\n",
       "      <td>1</td>\n",
       "      <td>1</td>\n",
       "      <td>128</td>\n",
       "      <td>205</td>\n",
       "      <td>1</td>\n",
       "      <td>0</td>\n",
       "      <td>184</td>\n",
       "      <td>0</td>\n",
       "      <td>1.055556</td>\n",
       "      <td>0</td>\n",
       "      <td>0.676768</td>\n",
       "      <td>0</td>\n",
       "    </tr>\n",
       "    <tr>\n",
       "      <th>259</th>\n",
       "      <td>51</td>\n",
       "      <td>0</td>\n",
       "      <td>3</td>\n",
       "      <td>130</td>\n",
       "      <td>305</td>\n",
       "      <td>0</td>\n",
       "      <td>0</td>\n",
       "      <td>142</td>\n",
       "      <td>1</td>\n",
       "      <td>1.200000</td>\n",
       "      <td>1</td>\n",
       "      <td>0.676768</td>\n",
       "      <td>2</td>\n",
       "    </tr>\n",
       "    <tr>\n",
       "      <th>43</th>\n",
       "      <td>54</td>\n",
       "      <td>1</td>\n",
       "      <td>1</td>\n",
       "      <td>108</td>\n",
       "      <td>309</td>\n",
       "      <td>0</td>\n",
       "      <td>0</td>\n",
       "      <td>156</td>\n",
       "      <td>0</td>\n",
       "      <td>1.055556</td>\n",
       "      <td>0</td>\n",
       "      <td>0.676768</td>\n",
       "      <td>2</td>\n",
       "    </tr>\n",
       "    <tr>\n",
       "      <th>143</th>\n",
       "      <td>43</td>\n",
       "      <td>1</td>\n",
       "      <td>2</td>\n",
       "      <td>130</td>\n",
       "      <td>315</td>\n",
       "      <td>0</td>\n",
       "      <td>0</td>\n",
       "      <td>162</td>\n",
       "      <td>0</td>\n",
       "      <td>1.900000</td>\n",
       "      <td>0</td>\n",
       "      <td>1.000000</td>\n",
       "      <td>0</td>\n",
       "    </tr>\n",
       "    <tr>\n",
       "      <th>66</th>\n",
       "      <td>41</td>\n",
       "      <td>1</td>\n",
       "      <td>1</td>\n",
       "      <td>110</td>\n",
       "      <td>235</td>\n",
       "      <td>0</td>\n",
       "      <td>0</td>\n",
       "      <td>153</td>\n",
       "      <td>0</td>\n",
       "      <td>1.055556</td>\n",
       "      <td>0</td>\n",
       "      <td>0.676768</td>\n",
       "      <td>0</td>\n",
       "    </tr>\n",
       "  </tbody>\n",
       "</table>\n",
       "</div>"
      ],
      "text/plain": [
       "     age  sex  cp  trestbps  chol  fbs  restecg  thalach  exang   oldpeak  \\\n",
       "274   46    1   3       120   249    0        2      144      0  0.800000   \n",
       "29    62    1   1       128   208    1        2      140      0  1.055556   \n",
       "278   45    1   3       115   260    0        2      185      0  1.055556   \n",
       "42    55    0   1       132   342    0        0      166      0  1.200000   \n",
       "209   59    0   3       174   249    0        0      143      1  1.055556   \n",
       "48    52    1   1       128   205    1        0      184      0  1.055556   \n",
       "259   51    0   3       130   305    0        0      142      1  1.200000   \n",
       "43    54    1   1       108   309    0        0      156      0  1.055556   \n",
       "143   43    1   2       130   315    0        0      162      0  1.900000   \n",
       "66    41    1   1       110   235    0        0      153      0  1.055556   \n",
       "\n",
       "     slope        ca  thal  \n",
       "274      0  0.676768     2  \n",
       "29       0  0.676768     0  \n",
       "278      0  0.676768     0  \n",
       "42       0  0.676768     0  \n",
       "209      1  0.676768     0  \n",
       "48       0  0.676768     0  \n",
       "259      1  0.676768     2  \n",
       "43       0  0.676768     2  \n",
       "143      0  1.000000     0  \n",
       "66       0  0.676768     0  "
      ]
     },
     "execution_count": 97,
     "metadata": {},
     "output_type": "execute_result"
    }
   ],
   "source": [
    "x_test.head(10)"
   ]
  },
  {
   "cell_type": "code",
   "execution_count": 99,
   "id": "4f303b2b-bab0-4e2f-ae94-bfa84e3d7b7e",
   "metadata": {},
   "outputs": [
    {
     "name": "stdout",
     "output_type": "stream",
     "text": [
      "[1 0 0 0 0 0 1 0 0 0 0 0 1 0 1 1 0 1 0 1 0 0 0 1 0 0 0 0 0 0 0 0 0 0 0 0 0\n",
      " 1 0 0 0 1 0 0 0 0 0 1]\n"
     ]
    }
   ],
   "source": [
    "print (prediccion)"
   ]
  },
  {
   "cell_type": "code",
   "execution_count": 101,
   "id": "aabe0f8a-86a9-4b03-acbd-97d96b893508",
   "metadata": {},
   "outputs": [
    {
     "name": "stdout",
     "output_type": "stream",
     "text": [
      "EVALUAR ELDESEMPEÑO DEL MODELO EN EL CONJUNTO DE TEST CON METRICAS COMO PRECISION RECALL, F1-SCORE, ETC\n"
     ]
    }
   ],
   "source": [
    "print ('EVALUAR ELDESEMPEÑO DEL MODELO EN EL CONJUNTO DE TEST CON METRICAS COMO PRECISION RECALL, F1-SCORE, ETC')"
   ]
  },
  {
   "cell_type": "code",
   "execution_count": 103,
   "id": "ae4f5e09-14b6-4c4c-8910-fc37f7f4b89d",
   "metadata": {},
   "outputs": [
    {
     "name": "stdout",
     "output_type": "stream",
     "text": [
      "              precision    recall  f1-score   support\n",
      "\n",
      "           0       0.78      0.97      0.87        30\n",
      "           1       0.91      0.56      0.69        18\n",
      "\n",
      "    accuracy                           0.81        48\n",
      "   macro avg       0.85      0.76      0.78        48\n",
      "weighted avg       0.83      0.81      0.80        48\n",
      "\n"
     ]
    }
   ],
   "source": [
    "#desempeño del modelo de regresion\n",
    "\n",
    "print (classification_report(y_test, prediccion))"
   ]
  },
  {
   "cell_type": "code",
   "execution_count": 105,
   "id": "9a313769-95e3-4b62-b301-444f8ebcf5ef",
   "metadata": {},
   "outputs": [
    {
     "name": "stdout",
     "output_type": "stream",
     "text": [
      "REALIZAR LAS DIFERENTES GRAFICAS QUE PERMITAN IDENTIFICAR LOS RESULTADOS DEL MODELO\n"
     ]
    }
   ],
   "source": [
    "print ('REALIZAR LAS DIFERENTES GRAFICAS QUE PERMITAN IDENTIFICAR LOS RESULTADOS DEL MODELO')"
   ]
  },
  {
   "cell_type": "code",
   "execution_count": 107,
   "id": "bf0376cb-8b53-4fe6-967e-0835a43adab7",
   "metadata": {},
   "outputs": [
    {
     "data": {
      "text/plain": [
       "<sklearn.metrics._plot.confusion_matrix.ConfusionMatrixDisplay at 0x23c5a948ad0>"
      ]
     },
     "execution_count": 107,
     "metadata": {},
     "output_type": "execute_result"
    },
    {
     "data": {
      "image/png": "[encoded data removed]",
      "text/plain": [
       "<Figure size 640x480 with 2 Axes>"
      ]
     },
     "metadata": {},
     "output_type": "display_data"
    }
   ],
   "source": [
    "#matriz de confusion del modelo\n",
    "cm=confusion_matrix(y_test, prediccion)\n",
    "disp=metrics.ConfusionMatrixDisplay(confusion_matrix=cm)\n",
    "disp.plot()"
   ]
  },
  {
   "cell_type": "code",
   "execution_count": 109,
   "id": "08e4cae1-4be8-47aa-9bfb-7b2366c23607",
   "metadata": {},
   "outputs": [
    {
     "data": {
      "image/png": "[encoded data removed]",
      "text/plain": [
       "<Figure size 640x480 with 1 Axes>"
      ]
     },
     "metadata": {},
     "output_type": "display_data"
    }
   ],
   "source": [
    "#curva de precision del modelo\n",
    "from sklearn.metrics import RocCurveDisplay\n",
    "RocCurveDisplay.from_predictions(y_test, prediccion)\n",
    "plt.show()"
   ]
  },
  {
   "cell_type": "code",
   "execution_count": 111,
   "id": "138ef845-c8df-47a6-b1a3-1b05ae377971",
   "metadata": {},
   "outputs": [
    {
     "name": "stdout",
     "output_type": "stream",
     "text": [
      "INTERPRETAR, ANALIZAR Y DOCUMENTAR LOS RESULTADOS OBTENIDOS\n"
     ]
    }
   ],
   "source": [
    "print ('INTERPRETAR, ANALIZAR Y DOCUMENTAR LOS RESULTADOS OBTENIDOS')"
   ]
  },
  {
   "cell_type": "code",
   "execution_count": null,
   "id": "9eb46cef-bf92-46e8-8430-dc35bd72e672",
   "metadata": {},
   "outputs": [],
   "source": [
    "#Precisión global (accuracy): El modelo acertó en el 81% de los casos (es decir, clasificó correctamente 39 de 48 personas).\n",
    "#Clase 0 (personas sin enfermedad):\n",
    "#Precisión: 0.78 → De todas las veces que el modelo dijo \"no enfermo\", acertó el 78%.\n",
    "#Recall (sensibilidad): 0.97 → De todos los verdaderos \"no enfermos\", detectó correctamente el 97%.\n",
    "#F1-score: 0.87 → Buena combinación entre precisión y recall.\n",
    "#Clase 1 (personas con enfermedad):\n",
    "#Precisión: 0.91 → Cuando el modelo dice \"enfermo\", acierta el 91%.\n",
    "#Recall: 0.56 → Solo detectó correctamente al 56% de los realmente enfermos (¡bastante bajo!).\n",
    "#F1-score: 0.69 → Regular desempeño en esta clase.\n",
    "#El modelo tiene alta precisión (90.9%) y alta especificidad (96.7%), lo que indica que clasifica muy bien los negativos.\n",
    "#Sin embargo, tiene un recall bajo (55.6%), lo que significa que no detecta bien los casos positivos (muchos falsos negativos).\n",
    "#F1 Score moderado (0.689) sugiere un balance razonable, pero puede mejorarse en recall si se necesita más sensibilidad.\n"
   ]
  },
  {
   "cell_type": "code",
   "execution_count": null,
   "id": "15ac7e0b-56a9-41a6-8969-6caec02c27f7",
   "metadata": {},
   "outputs": [],
   "source": []
  }
 ],
 "metadata": {
  "kernelspec": {
   "display_name": "Python [conda env:base] *",
   "language": "python",
   "name": "conda-base-py"
  },
  "language_info": {
   "codemirror_mode": {
    "name": "ipython",
    "version": 3
   },
   "file_extension": ".py",
   "mimetype": "text/x-python",
   "name": "python",
   "nbconvert_exporter": "python",
   "pygments_lexer": "ipython3",
   "version": "3.12.7"
  }
 },
 "nbformat": 4,
 "nbformat_minor": 5
}
